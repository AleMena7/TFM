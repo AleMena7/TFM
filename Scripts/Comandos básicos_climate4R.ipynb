{
 "cells": [
  {
   "cell_type": "code",
   "execution_count": 1,
   "metadata": {
    "vscode": {
     "languageId": "r"
    }
   },
   "outputs": [
    {
     "name": "stderr",
     "output_type": "stream",
     "text": [
      "Cargando paquete requerido: rJava\n",
      "\n",
      "Cargando paquete requerido: loadeR.java\n",
      "\n",
      "Java version 1.8x amd64 by Oracle Corporation detected\n",
      "\n",
      "NetCDF Java Library v4.6.0-SNAPSHOT (23 Apr 2015) loaded and ready\n",
      "\n",
      "Cargando paquete requerido: climate4R.UDG\n",
      "\n",
      "climate4R.UDG version 0.2.6 (2023-06-26) is loaded\n",
      "\n",
      "Please use 'citation(\"climate4R.UDG\")' to cite this package.\n",
      "\n",
      "loadeR version 1.8.2 (2024-06-04) is loaded\n",
      "\n",
      "Please use 'citation(\"loadeR\")' to cite this package.\n",
      "\n",
      "Cargando paquete requerido: transformeR\n",
      "\n"
     ]
    },
    {
     "name": "stdout",
     "output_type": "stream",
     "text": [
      "\n",
      "    _______   ____  ___________________  __  ________ \n",
      "   / ___/ /  / /  |/  / __  /_  __/ __/ / / / / __  / \n",
      "  / /  / /  / / /|_/ / /_/ / / / / __/ / /_/ / /_/_/  \n",
      " / /__/ /__/ / /  / / __  / / / / /__ /___  / / \\ \\ \n",
      " \\___/____/_/_/  /_/_/ /_/ /_/  \\___/    /_/\\/   \\_\\ \n",
      " \n",
      "      github.com/SantanderMetGroup/climate4R\n",
      "\n"
     ]
    },
    {
     "name": "stderr",
     "output_type": "stream",
     "text": [
      "transformeR version 2.2.3 (2024-06-05) is loaded\n",
      "\n",
      "Please see 'citation(\"transformeR\")' to cite this package.\n",
      "\n",
      "visualizeR version 1.6.4 (2023-10-26) is loaded\n",
      "\n",
      "Please see 'citation(\"visualizeR\")' to cite this package.\n",
      "\n"
     ]
    }
   ],
   "source": [
    "library(loadeR) # para leer datos\n",
    "library(visualizeR) # para generar figuras\n",
    "#library(downscaleR) # para downscaling estadístico\n",
    "library(transformeR) # para transformaciones, p.ej. subset, interpolar, etc."
   ]
  },
  {
   "cell_type": "code",
   "execution_count": 2,
   "metadata": {
    "vscode": {
     "languageId": "r"
    }
   },
   "outputs": [
    {
     "name": "stderr",
     "output_type": "stream",
     "text": [
      "[2025-03-06 20:51:52.131829] Doing inventory ...\n",
      "\n",
      "[2025-03-06 20:52:11.153546] Retrieving info for 'd2m' (7 vars remaining)\n",
      "\n",
      "[2025-03-06 20:52:11.873388] Retrieving info for 'sfcwind' (6 vars remaining)\n",
      "\n",
      "[2025-03-06 20:52:12.440364] Retrieving info for 'sp' (5 vars remaining)\n",
      "\n",
      "[2025-03-06 20:52:12.966835] Retrieving info for 'ssrd' (4 vars remaining)\n",
      "\n",
      "[2025-03-06 20:52:13.602005] Retrieving info for 't2m' (3 vars remaining)\n",
      "\n",
      "[2025-03-06 20:52:14.076994] Retrieving info for 't2mn' (2 vars remaining)\n",
      "\n",
      "[2025-03-06 20:52:14.626884] Retrieving info for 't2mx' (1 vars remaining)\n",
      "\n",
      "[2025-03-06 20:52:15.028456] Retrieving info for 'tp' (0 vars remaining)\n",
      "\n",
      "[2025-03-06 20:52:15.433085] Done.\n",
      "\n",
      "[2025-03-06 20:52:19.345767] Defining geo-location parameters\n",
      "\n",
      "[2025-03-06 20:52:19.955242] Defining time selection parameters\n",
      "\n",
      "[2025-03-06 20:52:22.556508] Retrieving data subset ...\n",
      "\n",
      "[2025-03-06 20:54:45.261559] Done\n",
      "\n",
      "[2025-03-06 20:54:46.872832] - Computing climatology...\n",
      "\n",
      "[2025-03-06 20:54:53.930797] - Done.\n",
      "\n"
     ]
    },
    {
     "data": {
      "image/png": "[encoded data removed]",
      "text/plain": [
       "plot without title"
      ]
     },
     "metadata": {
      "image/png": {
       "height": 420,
       "width": 420
      }
     },
     "output_type": "display_data"
    }
   ],
   "source": [
    "# indicamos dónde están los datos\n",
    "dataset <- \" https://data.meteo.unican.es/thredds/dodsC/PTI-clima/reanalysis/ERA5-Land_Iberia_day.ncml\"\n",
    "\n",
    "# información sobre variables, periodo, extensión espacial, unidades, etc.\n",
    "di <- dataInventory(dataset) \n",
    "\n",
    "# carga datos para la variable temperatura media diaria\n",
    "data <- loadGridData(dataset, var = \"t2m\", years = 2015:2020) \n",
    "\n",
    "# por defecto hace un promedio temporal en cada punto\n",
    "clim <- climatology(data) \n",
    "\n",
    "# pinta un mapa de esos valores\n",
    "spatialPlot(clim, main=\"Temp. media diaria (2015-2020)\", backdrop.theme = \"coastline\")"
   ]
  }
 ],
 "metadata": {
  "kernelspec": {
   "display_name": "R",
   "language": "R",
   "name": "ir"
  },
  "language_info": {
   "codemirror_mode": "r",
   "file_extension": ".r",
   "mimetype": "text/x-r-source",
   "name": "R",
   "pygments_lexer": "r",
   "version": "4.4.3"
  }
 },
 "nbformat": 4,
 "nbformat_minor": 2
}
